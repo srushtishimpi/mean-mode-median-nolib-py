{
 "cells": [
  {
   "cell_type": "markdown",
   "id": "fd415a43-85b4-4e81-815b-cb330da12c9a",
   "metadata": {},
   "source": [
    "# Calculating Mean, Median, and Mode in Python Without Built-in Libraries\n",
    "\n",
    "### [By Srushti Shimpi](https://github.com/srushtishimpi)\n",
    "\n",
    "\n",
    "## Introduction\n",
    "\n",
    "Understanding **mean**, **median**, and **mode** is essential for data handling and analysis. Although Python has libraries to handle statistical functions, knowing how to compute these manually helps build a deeper understanding of the logic behind the calculations.\n",
    "\n",
    "This article walks you through how to calculate **mean**, **median**, and **mode** in Python **without using any built-in libraries or modules**.\n"
   ]
  },
  {
   "cell_type": "markdown",
   "id": "4e33e06f-766f-4824-b247-eaef11a5046b",
   "metadata": {},
   "source": [
    "## Calculating the Mean (Average)\n",
    "\n",
    "The **mean** is the sum of all values divided by the number of values in a dataset.\n",
    "\n",
    "### Formula:\n",
    "\n",
    "$\\\n",
    "\\text{Mean} = \\frac{\\text{Sum of all values}}{\\text{Number of values}}\n",
    "\\$\n",
    "\n",
    "### Python Implementation:"
   ]
  },
  {
   "cell_type": "code",
   "execution_count": 1,
   "id": "9016b7ec-d242-4813-89dd-d1c1e2d915e3",
   "metadata": {},
   "outputs": [
    {
     "name": "stdout",
     "output_type": "stream",
     "text": [
      "Mean: 5.833333333333333\n"
     ]
    }
   ],
   "source": [
    "def calculate_mean(data):\n",
    "    total = 0\n",
    "    for num in data:\n",
    "        total += num\n",
    "    mean = total / len(data)\n",
    "    return mean\n",
    "\n",
    "# Example usage\n",
    "dataset = [4, 8, 6, 5, 3, 9]\n",
    "print(\"Mean:\", calculate_mean(dataset))\n"
   ]
  },
  {
   "cell_type": "markdown",
   "id": "3c8ed8fa-5364-456f-9d2c-691008825648",
   "metadata": {},
   "source": [
    "## Calculating the Median (Middle Value)\n",
    "\n",
    "The **median** is the value at the center of a sorted dataset. It varies depending on whether the dataset contains an odd or even number of elements.\n",
    "\n",
    "### Scenarios:\n",
    "\n",
    "- **Odd count**: Median is the middle element.\n",
    "- **Even count**: Median is the average of the two central elements.\n",
    "\n",
    "### Python Implementation:"
   ]
  },
  {
   "cell_type": "code",
   "execution_count": 2,
   "id": "0c70d03e-1e1d-43d2-8c07-b28fe756a71e",
   "metadata": {},
   "outputs": [
    {
     "name": "stdout",
     "output_type": "stream",
     "text": [
      "Median: 5.5\n"
     ]
    }
   ],
   "source": [
    "def calculate_median(data):\n",
    "    sorted_data = sorted(data)\n",
    "    n = len(sorted_data)\n",
    "    mid = n // 2\n",
    "\n",
    "    if n % 2 == 0:\n",
    "        # Even number of elements\n",
    "        median = (sorted_data[mid - 1] + sorted_data[mid]) / 2\n",
    "    else:\n",
    "        # Odd number of elements\n",
    "        median = sorted_data[mid]\n",
    "    return median\n",
    "\n",
    "# Example usage\n",
    "dataset = [4, 8, 6, 5, 3, 9]\n",
    "print(\"Median:\", calculate_median(dataset))\n"
   ]
  },
  {
   "cell_type": "markdown",
   "id": "edc3b305-6d3c-4b9e-bfe6-af7fbd4a735f",
   "metadata": {},
   "source": [
    "## Calculating the Mode (Most Frequent Value)\n",
    "\n",
    "The **mode** represents the most frequently occurring element in a dataset.\n",
    "\n",
    "### To compute the mode manually:\n",
    "\n",
    "1. Iterate through each element.\n",
    "2. Count the frequency of each unique value.\n",
    "3. Identify the value with the highest count.\n",
    "\n",
    "This requires maintaining a **frequency map** (or dictionary) to track occurrences of each number.\n",
    "\n",
    "### Python Implementation:"
   ]
  },
  {
   "cell_type": "code",
   "execution_count": 3,
   "id": "d0547090-25d9-4520-a6d3-9515da695a14",
   "metadata": {},
   "outputs": [
    {
     "name": "stdout",
     "output_type": "stream",
     "text": [
      "Mode: 4\n"
     ]
    }
   ],
   "source": [
    "def calculate_mode(data):\n",
    "    frequency = {}\n",
    "    for num in data:\n",
    "        if num in frequency:\n",
    "            frequency[num] += 1\n",
    "        else:\n",
    "            frequency[num] = 1\n",
    "\n",
    "    max_freq = max(frequency.values())\n",
    "    modes = [key for key, value in frequency.items() if value == max_freq]\n",
    "\n",
    "    # In case of multiple modes, return all of them\n",
    "    return modes if len(modes) > 1 else modes[0]\n",
    "\n",
    "# Example usage\n",
    "dataset = [4, 8, 6, 5, 3, 9, 4, 6, 4]\n",
    "print(\"Mode:\", calculate_mode(dataset))\n"
   ]
  },
  {
   "cell_type": "markdown",
   "id": "24c7bc40-d28e-40d2-992f-bcf0978ad880",
   "metadata": {},
   "source": [
    "## Summary\n",
    "\n",
    "In this article, we explored how to calculate the **mean**, **median**, and **mode** using **pure Python**, without depending on any external libraries or modules. Here's a quick recap:\n",
    "\n",
    "- **Mean** is the average value — total sum divided by the number of values.\n",
    "- **Median** is the middle value — found after sorting the dataset.\n",
    "- **Mode** is the most frequently occurring number.\n",
    "\n",
    "While libraries offer convenient shortcuts, understanding the internal logic improves your grasp of statistics and your ability to write optimized and reliable code."
   ]
  },
  {
   "cell_type": "markdown",
   "id": "59584750-c02f-4aef-b4d5-b1ed4808a474",
   "metadata": {},
   "source": [
    "# END"
   ]
  },
  {
   "cell_type": "code",
   "execution_count": null,
   "id": "4d233793-57b7-41ab-91d7-4b00fd8b77a8",
   "metadata": {},
   "outputs": [],
   "source": []
  }
 ],
 "metadata": {
  "kernelspec": {
   "display_name": "Python 3 (ipykernel)",
   "language": "python",
   "name": "python3"
  },
  "language_info": {
   "codemirror_mode": {
    "name": "ipython",
    "version": 3
   },
   "file_extension": ".py",
   "mimetype": "text/x-python",
   "name": "python",
   "nbconvert_exporter": "python",
   "pygments_lexer": "ipython3",
   "version": "3.12.9"
  }
 },
 "nbformat": 4,
 "nbformat_minor": 5
}
